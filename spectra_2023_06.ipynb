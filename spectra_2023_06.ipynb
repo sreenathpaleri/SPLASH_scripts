{
 "cells": [
  {
   "cell_type": "code",
   "execution_count": 29,
   "metadata": {},
   "outputs": [],
   "source": [
    "import os\n",
    "import pandas as pd\n",
    "import numpy as np\n",
    "import pandas as pd\n",
    "#import seaborn as sns\n",
    "from matplotlib import pyplot as plt\n",
    "\n",
    "#fft packages\n",
    "from scipy import fftpack\n",
    "import math\n",
    "from scipy import fft\n",
    "from scipy import ndimage\n",
    "from scipy import signal"
   ]
  },
  {
   "cell_type": "code",
   "execution_count": null,
   "metadata": {},
   "outputs": [],
   "source": [
    "if file_name.endswith('.FLX1'):\n",
    "            print(file_name)\n",
    "    #        print(i)\n",
    "            x = pd.read_table(file_name,delimiter=r\"\\s+\")\n",
    "        "
   ]
  },
  {
   "cell_type": "code",
   "execution_count": 12,
   "metadata": {},
   "outputs": [],
   "source": [
    "folder = '/home/sreenath/Documents/Work/NOAA/SPLASH/Tower_Data/raw_data/Kettle_Ponds/2023/ascii_files/'\n",
    "file = '2023-06-30T000000_smart3-00565-floor.data'\n",
    "fname = folder + file\n",
    "header_list = ['DATAH',\t'Seconds',\t'Nanoseconds',\t'Sequence Number',\t'Diagnostic Value',\n",
    " 'Diagnostic Value 2',\t'DS Diagnostic Value',\t'Date',\t'Time',\t'CO2 Absorptance',\n",
    " 'H2O Absorptance',\t'CO2 (mmol/m^3)',\t'CO2 (mg/m^3)',\t'H2O (mmol/m^3)',\t'H2O (g/m^3)',\n",
    " 'Temperature (C)',\t'Pressure (kPa)',\t'None1',\t'None2',\t'None3',\t'None4',\t'Cooler Voltage (V)',\n",
    " 'Chopper Cooler Voltage (V)',\t'Vin SmartFlux (V)',\t'CO2 (umol/mol)',\t'H2O (mmol/mol)',\n",
    " 'Dew Point (C)',\t'CO2 Signal Strength',\t'H2O Sample',\t'H2O Reference',\t'CO2 Sample',\n",
    " 'CO2 Reference',\t'HIT Power (W)',\t'Vin HIT (V)',\t'Vin DSI (V)',\t'U (m/s)',\t'V (m/s)',\t'W (m/s)',\t'T (C)',\n",
    " 'Anemometer Diagnostics',\t'CHK',\n",
    "]\n",
    "df = pd.read_table(fname,delimiter=r\"\\s+\",names=header_list,skiprows=8)"
   ]
  },
  {
   "cell_type": "code",
   "execution_count": 19,
   "metadata": {},
   "outputs": [],
   "source": [
    "def belltaper(var, n): #-- following Stull 1999\n",
    "    W = [] # weight function \n",
    "    for i in np.arange(n):\n",
    "        if (i/n > 0.1) & (i/n < 0.9):\n",
    "            W.append(1)\n",
    "        else:\n",
    "            W.append(math.sin(np.pi*i/n)**2)\n",
    "    out = var * W\n",
    "    return(out)\n"
   ]
  },
  {
   "cell_type": "code",
   "execution_count": 23,
   "metadata": {},
   "outputs": [],
   "source": [
    "w_data = df['W (m/s)'].values\n",
    "q_data = df['H2O (g/m^3)'].values"
   ]
  },
  {
   "cell_type": "code",
   "execution_count": 27,
   "metadata": {},
   "outputs": [
    {
     "data": {
      "text/plain": [
       "18000"
      ]
     },
     "execution_count": 27,
     "metadata": {},
     "output_type": "execute_result"
    }
   ],
   "source": [
    "q_data.size"
   ]
  },
  {
   "cell_type": "code",
   "execution_count": 30,
   "metadata": {},
   "outputs": [],
   "source": [
    "N = w_data.size\n",
    "data_w = w_data-w_data.mean()\n",
    "\n",
    "data_var = q_data-q_data.mean()\n",
    "\n",
    "\n",
    "# #-- apply bell taper to space series\n",
    "data_bt_w = belltaper(data_w,N)\n",
    "\n",
    "data_bt_var = belltaper(data_var,N)\n",
    "\n",
    "#-- calculate wave vectors\n",
    "# time interval\n",
    "sampling_frequency = 10\n",
    "dt = 1/sampling_frequency\n",
    "# total duration\n",
    "L = dt*N\n",
    "# nyquist aliasing frequency\n",
    "nyquist = np.power(dt,-1)/2\n",
    "# wave vector increments\n",
    "delta_f = np.power(L,-1)\n",
    "# frequencies according to Frederik's python scripts\n",
    "f = np.linspace(delta_f,nyquist,int(N/2)) # !!! might be an issue when nx is uneven\n",
    "# calculate spectral contributions\n",
    "S = (np.abs(fftpack.fft(data_bt_w)*np.conj(fftpack.fft(data_bt_var)))[:int(N/2)])           \n",
    "#mean spectral power in x and y directions\n",
    "S_norm = (S/np.sum(S))"
   ]
  }
 ],
 "metadata": {
  "kernelspec": {
   "display_name": "analysis",
   "language": "python",
   "name": "python3"
  },
  "language_info": {
   "codemirror_mode": {
    "name": "ipython",
    "version": 3
   },
   "file_extension": ".py",
   "mimetype": "text/x-python",
   "name": "python",
   "nbconvert_exporter": "python",
   "pygments_lexer": "ipython3",
   "version": "3.12.1"
  }
 },
 "nbformat": 4,
 "nbformat_minor": 2
}
